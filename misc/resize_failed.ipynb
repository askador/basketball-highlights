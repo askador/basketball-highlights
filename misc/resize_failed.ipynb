{
 "cells": [
  {
   "cell_type": "code",
   "execution_count": 2,
   "metadata": {},
   "outputs": [],
   "source": [
    "import cv2\n",
    "import os"
   ]
  },
  {
   "cell_type": "code",
   "execution_count": 4,
   "metadata": {},
   "outputs": [],
   "source": [
    "FAILED_PATH = \"/content/failed\"\n",
    "CROPPED_PATH = \"/content/cropped\""
   ]
  },
  {
   "cell_type": "code",
   "execution_count": 7,
   "metadata": {},
   "outputs": [],
   "source": [
    "def resize_from_file(dir, img_filename):\n",
    "  if not(img_filename.endswith('.jpg') or img_filename.endswith('.png')):\n",
    "    return\n",
    "  image_path = os.path.join(dir, img_filename)\n",
    "  img = cv2.imread(image_path, cv2.IMREAD_ANYCOLOR)\n",
    "  resized_img = cv2.resize(img, (128, 128))\n",
    "  output_path = os.path.join(CROPPED_PATH, f\"{img_filename}\")\n",
    "  cv2.imwrite(output_path, resized_img)"
   ]
  },
  {
   "cell_type": "code",
   "execution_count": 8,
   "metadata": {},
   "outputs": [],
   "source": [
    "for filename in os.listdir(FAILED_PATH):\n",
    "    resize_from_file(FAILED_PATH, filename)"
   ]
  }
 ],
 "metadata": {
  "kernelspec": {
   "display_name": ".venv",
   "language": "python",
   "name": "python3"
  },
  "language_info": {
   "codemirror_mode": {
    "name": "ipython",
    "version": 3
   },
   "file_extension": ".py",
   "mimetype": "text/x-python",
   "name": "python",
   "nbconvert_exporter": "python",
   "pygments_lexer": "ipython3",
   "version": "3.11.7"
  }
 },
 "nbformat": 4,
 "nbformat_minor": 2
}
